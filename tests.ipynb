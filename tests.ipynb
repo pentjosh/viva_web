{
 "cells": [
  {
   "cell_type": "code",
   "execution_count": null,
   "metadata": {},
   "outputs": [],
   "source": [
    "import random;\n",
    "\n",
    "SEED = 6285222311254;\n",
    "class Enc:\n",
    "    def __init__(self):\n",
    "        self.seed = SEED;\n",
    "        self.key = self.gen_key();\n",
    "\n",
    "    def gen_key(self):\n",
    "        random.seed(SEED);\n",
    "        return [random.randint(1, 9) for _ in range(256)];\n",
    "\n",
    "    def encrypt(self, text: str) -> str:\n",
    "        encrypted_text = \"\".join(chr((ord(char) + self.key[i % len(self.key)]) % 256) for i, char in enumerate(text));\n",
    "        return encrypted_text.encode(\"latin1\").hex();\n",
    "\n",
    "    def decrypt(self, encrypted_hex: str) -> str:\n",
    "        encrypted_text = bytes.fromhex(encrypted_hex).decode(\"latin1\")\n",
    "        decrypted_text = \"\".join(chr((ord(char) - self.key[i % len(self.key)]) % 256) for i, char in enumerate(encrypted_text));\n",
    "        return decrypted_text;\n",
    "    \n",
    "enc = Enc();\n",
    "print(enc.encrypt(\"Cimbniaga1!\"));\n",
    "print(enc.decrypt(\"47717466726f696f663824\"))"
   ]
  },
  {
   "cell_type": "code",
   "execution_count": null,
   "metadata": {},
   "outputs": [],
   "source": []
  },
  {
   "cell_type": "code",
   "execution_count": null,
   "metadata": {},
   "outputs": [],
   "source": [
    "seed = 6285222311254;\n",
    "password = \"Cimbniaga1!\";\n",
    "\n",
    "print(encrypt(password,seed));\n",
    "print(decrypt(encrypt(password,seed),seed))"
   ]
  },
  {
   "cell_type": "code",
   "execution_count": null,
   "metadata": {},
   "outputs": [],
   "source": [
    "from dotenv import find_dotenv, load_dotenv;\n",
    "import os;\n",
    "\n",
    "load_dotenv();\n",
    "\n",
    "print(os.environ.get(\"DB_NAME\"))"
   ]
  },
  {
   "cell_type": "code",
   "execution_count": 1,
   "metadata": {},
   "outputs": [],
   "source": [
    "import whisper;\n",
    "import torch;\n",
    "import sounddevice as sd;\n",
    "import io\n",
    "from scipy.io.wavfile import write;\n",
    "import numpy as np;\n",
    "import gc;\n",
    "\n",
    "device = \"cuda\" if torch.cuda.is_available() else \"cpu\";\n",
    "model = whisper.load_model(\"turbo\",device=device);\n",
    "\n",
    "def record_audio_np(duration=5, fs=16000):\n",
    "    print(f\"Recording for {duration} seconds...\")\n",
    "    audio = sd.rec(int(duration * fs), samplerate=fs, channels=1, dtype=\"int16\")\n",
    "    sd.wait()\n",
    "    print(\"Recording selesai, audio ready sebagai numpy array.\")\n",
    "    # Convert int16 ke float32 (range -1.0 ~ 1.0)\n",
    "    audio = audio.flatten().astype(np.float32) / 32768.0\n",
    "    return audio;\n",
    "\n",
    "def transcribe_whisper_from_np(audio_array):\n",
    "    print(\"Loading whisper model...\")\n",
    "    print(\"Transcribing...\")\n",
    "    result = model.transcribe(audio_array)\n",
    "    print(\"Hasil transkripsi:\")\n",
    "    print(result[\"text\"])\n",
    "    return result[\"text\"];"
   ]
  },
  {
   "cell_type": "code",
   "execution_count": 9,
   "metadata": {},
   "outputs": [
    {
     "name": "stdout",
     "output_type": "stream",
     "text": [
      "Recording for 5 seconds...\n",
      "Recording selesai, audio ready sebagai numpy array.\n",
      "Loading whisper model...\n",
      "Transcribing...\n",
      "Hasil transkripsi:\n",
      " Itt, itt, imotiii\n"
     ]
    }
   ],
   "source": [
    "audiofile = record_audio_np(5);\n",
    "result = transcribe_whisper_from_np(audiofile);\n",
    "\n",
    "gc.collect();\n",
    "torch.cuda.empty_cache();\n",
    "del(result);\n",
    "del(audiofile);"
   ]
  },
  {
   "cell_type": "code",
   "execution_count": 2,
   "metadata": {},
   "outputs": [
    {
     "name": "stdout",
     "output_type": "stream",
     "text": [
      "11.8\n",
      "90100\n",
      "NVIDIA GeForce RTX 2060\n",
      "cuda\n"
     ]
    }
   ],
   "source": [
    "import torch;\n",
    "import os;\n",
    "device = \"cuda\" if torch.cuda.is_available() else \"cpu\";\n",
    "code = os.system('nvidia-smi');\n",
    "print(torch.version.cuda);\n",
    "print(torch.backends.cudnn.version());\n",
    "print(torch.cuda.get_device_name(0));\n",
    "print(device);"
   ]
  },
  {
   "cell_type": "code",
   "execution_count": 9,
   "metadata": {},
   "outputs": [
    {
     "data": {
      "text/plain": [
       "False"
      ]
     },
     "execution_count": 9,
     "metadata": {},
     "output_type": "execute_result"
    }
   ],
   "source": [
    "torch.cuda.is_available()"
   ]
  }
 ],
 "metadata": {
  "kernelspec": {
   "display_name": "base",
   "language": "python",
   "name": "python3"
  },
  "language_info": {
   "codemirror_mode": {
    "name": "ipython",
    "version": 3
   },
   "file_extension": ".py",
   "mimetype": "text/x-python",
   "name": "python",
   "nbconvert_exporter": "python",
   "pygments_lexer": "ipython3",
   "version": "3.11.7"
  }
 },
 "nbformat": 4,
 "nbformat_minor": 2
}
